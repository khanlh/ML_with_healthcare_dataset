{
 "cells": [
  {
   "cell_type": "markdown",
   "metadata": {},
   "source": [
    "# Exploratory Data Analysis (EDA)\n",
    "\n",
    "This notebook contains exploratory data analysis of the healthcare dataset. We will analyze the dataset to understand the distribution of various features and their relationships."
   ]
  },
  {
   "cell_type": "code",
   "execution_count": null,
   "metadata": {},
   "outputs": [],
   "source": [
    "import numpy as np\n",
    "import pandas as pd\n",
    "import matplotlib.pyplot as plt\n",
    "import seaborn as sns\n",
    "\n",
    "# Load the dataset\n",
    "data = pd.read_csv('../data/raw/healthcare_dataset.csv')\n",
    "\n",
    "# Display the first few rows of the dataset\n",
    "data.head()"
   ]
  },
  {
   "cell_type": "code",
   "execution_count": null,
   "metadata": {},
   "outputs": [],
   "source": [
    "# Display basic information about the dataset\n",
    "data.info()"
   ]
  },
  {
   "cell_type": "code",
   "execution_count": null,
   "metadata": {},
   "outputs": [],
   "source": [
    "# Summary statistics of the dataset\n",
    "data.describe()"
   ]
  },
  {
   "cell_type": "code",
   "execution_count": null,
   "metadata": {},
   "outputs": [],
   "source": [
    "## Gender Distribution\n",
    "plt.figure(figsize=(6, 5))\n",
    "ax = sns.countplot(x='Gender', data=data, palette='Set2')\n",
    "for p in ax.patches:\n",
    "    ax.annotate(f'{p.get_height()}',\n",
    "                (p.get_x() + p.get_width() / 2., p.get_height()),\n",
    "                ha='center', va='center',\n",
    "                fontsize=12, color='black',\n",
    "                xytext=(0, 9), textcoords='offset points')\n",
    "plt.title('Gender Distribution')\n",
    "plt.show()"
   ]
  },
  {
   "cell_type": "code",
   "execution_count": null,
   "metadata": {},
   "outputs": [],
   "source": [
    "## Age Distribution\n",
    "plt.figure(figsize=(8, 5))\n",
    "sns.histplot(data['Age'], bins=30, kde=True, color='green')\n",
    "plt.title('Age Distribution')\n",
    "plt.xlabel('Age')\n",
    "plt.ylabel('Count')\n",
    "plt.show()"
   ]
  },
  {
   "cell_type": "code",
   "execution_count": null,
   "metadata": {},
   "outputs": [],
   "source": [
    "## Billing Amount Spread\n",
    "plt.figure(figsize=(8, 5))\n",
    "sns.boxplot(x=data['Billing Amount'], color='lightblue')\n",
    "plt.title('Billing Amount Spread')\n",
    "plt.show()"
   ]
  },
  {
   "cell_type": "code",
   "execution_count": null,
   "metadata": {},
   "outputs": [],
   "source": [
    "## Age-wise Admission Type\n",
    "plt.figure(figsize=(10, 5))\n",
    "sns.lineplot(data=data, x='Admission Type', y='Age')\n",
    "plt.title('Age-wise Admission Type', fontweight='bold')\n",
    "plt.xlabel('Admission Type', size=13)\n",
    "plt.ylabel('Age Distribution', size=13)\n",
    "plt.show()"
   ]
  }
 ],
 "metadata": {
  "kernelspec": {
   "display_name": "Python 3",
   "language": "python",
   "name": "python3"
  },
  "language_info": {
   "codemirror_mode": {
    "name": "ipython",
    "version": 3
   },
   "file_extension": ".py",
   "mimetype": "text/x-python",
   "name": "python",
   "nbconvert_exporter": "python",
   "pygments_lexer": "ipython3",
   "version": "3.8.5"
  }
 },
 "nbformat": 4,
 "nbformat_minor": 4
}